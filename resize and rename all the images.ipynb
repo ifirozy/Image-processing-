{
 "cells": [
  {
   "cell_type": "code",
   "execution_count": 21,
   "metadata": {},
   "outputs": [
    {
     "name": "stdout",
     "output_type": "stream",
     "text": [
      "<class 'numpy.ndarray'>\n",
      "(3000, 4000, 3)\n",
      "<class 'tuple'>\n"
     ]
    }
   ],
   "source": [
    "import cv2\n",
    "\n",
    "im = cv2.imread('resized_image/MAYA/20201217_160702.jpg')\n",
    "\n",
    "print(type(im))\n",
    "\n",
    "\n",
    "print(im.shape)\n",
    "print(type(im.shape))\n"
   ]
  },
  {
   "cell_type": "code",
   "execution_count": 19,
   "metadata": {},
   "outputs": [
    {
     "name": "stdout",
     "output_type": "stream",
     "text": [
      "width:   3000\n",
      "height:  4000\n",
      "channel: 3\n"
     ]
    }
   ],
   "source": [
    "h, w, c = im.shape\n",
    "print('width:  ', w)\n",
    "print('height: ', h)\n",
    "print('channel:', c)"
   ]
  },
  {
   "cell_type": "code",
   "execution_count": 27,
   "metadata": {},
   "outputs": [
    {
     "name": "stdout",
     "output_type": "stream",
     "text": [
      "resized_image/TENGRA\\20201217_161345.jpg\n",
      "resized_image/TENGRA\\20201217_161346.jpg\n",
      "resized_image/TENGRA\\20201217_161350.jpg\n",
      "resized_image/TENGRA\\20201217_161352.jpg\n",
      "resized_image/TENGRA\\20201217_161400.jpg\n",
      "resized_image/TENGRA\\20201217_161401.jpg\n",
      "resized_image/TENGRA\\20201217_161402.jpg\n",
      "resized_image/TENGRA\\20201217_161403.jpg\n",
      "resized_image/TENGRA\\20201217_161409.jpg\n",
      "resized_image/TENGRA\\20201217_161410(0).jpg\n",
      "resized_image/TENGRA\\20201217_161410.jpg\n",
      "resized_image/TENGRA\\20201217_161422.jpg\n",
      "resized_image/TENGRA\\20201217_161429(0).jpg\n",
      "resized_image/TENGRA\\20201217_161429.jpg\n",
      "resized_image/TENGRA\\20201217_161438(0).jpg\n",
      "resized_image/TENGRA\\20201217_161438.jpg\n",
      "resized_image/TENGRA\\20201217_161450.jpg\n",
      "resized_image/TENGRA\\20201217_161457.jpg\n",
      "resized_image/TENGRA\\20201217_161458.jpg\n",
      "resized_image/TENGRA\\20201217_161505.jpg\n",
      "resized_image/TENGRA\\20201217_161508.jpg\n",
      "resized_image/TENGRA\\20201217_161515.jpg\n",
      "resized_image/TENGRA\\20201217_161522.jpg\n",
      "resized_image/TENGRA\\20201217_161525.jpg\n",
      "resized_image/TENGRA\\20201217_161532.jpg\n",
      "resized_image/TENGRA\\20201217_161536.jpg\n",
      "resized_image/TENGRA\\20201217_161540.jpg\n",
      "resized_image/TENGRA\\20201217_161542.jpg\n",
      "resized_image/TENGRA\\20201217_161551.jpg\n",
      "resized_image/TENGRA\\20201217_161556.jpg\n",
      "resized_image/TENGRA\\20201217_161603.jpg\n"
     ]
    }
   ],
   "source": [
    "from PIL import Image\n",
    "import glob\n",
    "\n",
    "image_list = []\n",
    "resized_images = []\n",
    "\n",
    "for filename in glob.glob('resized_image/TENGRA\\\\*.jpg'):\n",
    "    print(filename)\n",
    "    img = Image.open(filename)\n",
    "    image_list.append(img)\n",
    "\n",
    "for image in image_list:\n",
    "    image = image.resize((256, 256))\n",
    "    resized_images.append(image)\n",
    "\n",
    "for (i, new) in enumerate(resized_images):\n",
    "    new.save('{}{}{}'.format('resized_image/TENGRA\\\\', i+1, '_TENGRA.jpg',))\n",
    "    \n"
   ]
  },
  {
   "cell_type": "code",
   "execution_count": 11,
   "metadata": {},
   "outputs": [
    {
     "name": "stdout",
     "output_type": "stream",
     "text": [
      "<class 'numpy.ndarray'>\n",
      "(256, 256, 3)\n",
      "<class 'tuple'>\n"
     ]
    }
   ],
   "source": [
    "import cv2\n",
    "\n",
    "im = cv2.imread('resized_image/CHANDA/18_CHANDA.jpg')\n",
    "\n",
    "print(type(im))\n",
    "\n",
    "\n",
    "print(im.shape)\n",
    "print(type(im.shape))\n"
   ]
  },
  {
   "cell_type": "code",
   "execution_count": null,
   "metadata": {},
   "outputs": [],
   "source": []
  }
 ],
 "metadata": {
  "kernelspec": {
   "display_name": "Python 3",
   "language": "python",
   "name": "python3"
  },
  "language_info": {
   "codemirror_mode": {
    "name": "ipython",
    "version": 3
   },
   "file_extension": ".py",
   "mimetype": "text/x-python",
   "name": "python",
   "nbconvert_exporter": "python",
   "pygments_lexer": "ipython3",
   "version": "3.8.5"
  }
 },
 "nbformat": 4,
 "nbformat_minor": 4
}
